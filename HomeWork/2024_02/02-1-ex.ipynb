{
 "cells": [
  {
   "cell_type": "markdown",
   "metadata": {},
   "source": [
    "# Лабораторная работа 2-1"
   ]
  },
  {
   "cell_type": "markdown",
   "metadata": {
    "collapsed": true
   },
   "source": [
    "## 2.1.1: Множества\n",
    "\n",
    "Напишите функцию, которая находит пересечение двух множеств и печатает их.\n",
    "Инициализируйте два множества, например, значениями {13, 25, 37, 45, 13} и {14, 25, 38, 8, 45} и вызовите  функцию."
   ]
  },
  {
   "cell_type": "code",
   "execution_count": 4,
   "metadata": {},
   "outputs": [
    {
     "data": {
      "text/plain": [
       "{25, 45}"
      ]
     },
     "execution_count": 4,
     "metadata": {},
     "output_type": "execute_result"
    }
   ],
   "source": [
    "a = {13, 25, 37, 45, 13}\n",
    "b = {14, 25, 38, 8, 45}\n",
    "c = a&b\n",
    "c"
   ]
  },
  {
   "cell_type": "markdown",
   "metadata": {},
   "source": [
    "## 2.1.2: Dictionaries\n",
    "\n",
    "* Создайте словарь с двухбуквенными кодами двух федеральных округов России и полными названиями, например, ЦТ: \tЦентральный, ЮЖ: Южный.\n",
    "* После первоначального создания словаря добавьте в словарь еще два округа.\n",
    "* Создайте второй словарь, который сопоставляет коды федеральных округов России с массивом городов в этом округе, например, ЦТ: [Москва, Тверь, Химки, Мытищи].\n",
    "* Напишите функцию, которая принимает код федеральных округов, печатает полное название округа и выводит список городов в этом округе."
   ]
  },
  {
   "cell_type": "markdown",
   "metadata": {},
   "source": [
    "Cоздание словаря и добавление в него 2 элементов"
   ]
  },
  {
   "cell_type": "code",
   "execution_count": 14,
   "metadata": {},
   "outputs": [
    {
     "data": {
      "text/plain": [
       "{'ЦТ': 'Центральный', 'ЮЖ': 'Южный', ('С', 'В'): ('Северный', 'Восточный')}"
      ]
     },
     "execution_count": 14,
     "metadata": {},
     "output_type": "execute_result"
    }
   ],
   "source": [
    "A = {\"ЦТ\":\"Центральный\", \"ЮЖ\":\"Южный\"}\n",
    "A[\"С\", \"В\"] = \"Северный\", \"Восточный\"\n",
    "A"
   ]
  },
  {
   "cell_type": "markdown",
   "metadata": {},
   "source": [
    "Cоздание словаря и добавление в него 2 элементов, но другим способом"
   ]
  },
  {
   "cell_type": "code",
   "execution_count": 15,
   "metadata": {},
   "outputs": [
    {
     "data": {
      "text/plain": [
       "{'ЦТ': 'Центральный', 'ЮЖ': 'Южный', 'С': 'Северный', 'В': 'Восточный'}"
      ]
     },
     "execution_count": 15,
     "metadata": {},
     "output_type": "execute_result"
    }
   ],
   "source": [
    "B = {\"ЦТ\":\"Центральный\", \"ЮЖ\":\"Южный\"}\n",
    "B[\"С\"] = \"Северный\"\n",
    "B[\"В\"] = \"Восточный\"\n",
    "B"
   ]
  },
  {
   "cell_type": "markdown",
   "metadata": {},
   "source": [
    "Создание словаря с кодами и массивами"
   ]
  },
  {
   "cell_type": "code",
   "execution_count": 24,
   "metadata": {},
   "outputs": [],
   "source": [
    "Sity = {\"ЦТ\": [\"Москва\", \"Тверь\", \"Химки\"], \"ЮЖ\": [\"Астрахань\", \"Волгоград\"]}"
   ]
  },
  {
   "cell_type": "markdown",
   "metadata": {},
   "source": [
    "Создание функции вывода городов по коду, реализованы проверка кода и вывод"
   ]
  },
  {
   "cell_type": "code",
   "execution_count": 26,
   "metadata": {},
   "outputs": [
    {
     "name": "stdout",
     "output_type": "stream",
     "text": [
      "Центральный ['Москва', 'Тверь', 'Химки']\n"
     ]
    }
   ],
   "source": [
    "def search(code):\n",
    "    try:\n",
    "        print(B[code], Sity[code])\n",
    "    except Exception as e:\n",
    "        print(\"Код отсутствует в базе данных:\", e)\n",
    "search(\"ЦТ\")"
   ]
  },
  {
   "cell_type": "markdown",
   "metadata": {},
   "source": [
    "Та же самая функция, но с красивым выводом и возможностью вывода нескольких кодов"
   ]
  },
  {
   "cell_type": "code",
   "execution_count": 29,
   "metadata": {},
   "outputs": [
    {
     "name": "stdout",
     "output_type": "stream",
     "text": [
      "Центральный Москва, Тверь, Химки\n",
      "Южный Астрахань, Волгоград\n"
     ]
    }
   ],
   "source": [
    "def search(code):\n",
    "    for i in range(len(Sity)):\n",
    "        try:\n",
    "            print(B[code[i]], ', '.join(Sity[code[i]]))\n",
    "        except Exception as e:\n",
    "            print(\"Код отсутствует в базе данных:\", e)\n",
    "search([\"ЦТ\", \"ЮЖ\"])"
   ]
  },
  {
   "cell_type": "markdown",
   "metadata": {},
   "source": [
    "## 2.1.3: Objects\n",
    "\n",
    "Создайте класс `Pet` с параметрами `name, pronoun, animal,` и `pet_response`.\n",
    "\n",
    "Добавьте метод `pet()`, который печатает ответ, состоящий из элементов, например:\n",
    "\n",
    "` Лейла — кошка. Если ее погладить, Лейла мурчит».` \n",
    "` Скаут — собака. Если его погладить, Скаут виляет хвостом.` "
   ]
  },
  {
   "cell_type": "code",
   "execution_count": 32,
   "metadata": {},
   "outputs": [
    {
     "name": "stdout",
     "output_type": "stream",
     "text": [
      "Лейла - кошка. Если её погладить, Лейла мурчит.\n",
      "Скаут - собака. Если его погладить, Скаут виляет хвостом.\n"
     ]
    }
   ],
   "source": [
    "class Pet:\n",
    "    def __init__(self, name, pronoun, animal, pet_response):\n",
    "        self.name = name \n",
    "        self.pronoun = pronoun\n",
    "        self.animal = animal\n",
    "        self.pet_response = pet_response\n",
    "    def pet(self):\n",
    "        print(f\"{self.name} - {self.animal}. Если {self.pronoun} погладить, {self.name} {self.pet_response}.\")\n",
    "\n",
    "Leila = Pet(\"Лейла\", \"её\", \"кошка\", \"мурчит\")\n",
    "Scaut = Pet(\"Скаут\", \"его\", \"собака\", \"виляет хвостом\")\n",
    "\n",
    "Leila.pet()\n",
    "Scaut.pet()\n"
   ]
  },
  {
   "cell_type": "markdown",
   "metadata": {},
   "source": [
    "Вот несколько примеров вызовов:"
   ]
  },
  {
   "cell_type": "code",
   "execution_count": 33,
   "metadata": {},
   "outputs": [
    {
     "name": "stdout",
     "output_type": "stream",
     "text": [
      "Layla - cat. Если her погладить, Layla purrs.\n",
      "Scout - dog. Если her погладить, Scout wags her tail.\n"
     ]
    }
   ],
   "source": [
    "layla = Pet(\"Layla\", \"her\", \"cat\", \"purrs\")\n",
    "scout = Pet(\"Scout\", \"her\", \"dog\", \"wags her tail\")\n",
    "\n",
    "layla.pet()\n",
    "scout.pet()"
   ]
  },
  {
   "cell_type": "markdown",
   "metadata": {
    "collapsed": true
   },
   "source": [
    "## 2.1.4: Pandas Series"
   ]
  },
  {
   "cell_type": "markdown",
   "metadata": {},
   "source": [
    "Создайте `pandas series`, используя приведенные ниже списки, содержащие названия команд [Российской премьер-лиги](https://ru.wikipedia.org/wiki/%D0%A0%D0%BE%D1%81%D1%81%D0%B8%D0%B9%D1%81%D0%BA%D0%B0%D1%8F_%D0%BF%D1%80%D0%B5%D0%BC%D1%8C%D0%B5%D1%80-%D0%BB%D0%B8%D0%B3%D0%B0) и количество выигранных ими кубка премьер-лиги. Используйте имена как индексы, а победы как данные.\n",
    "\n",
    "  * После создания списка отсортируйте данные в алфавитном порядке по индексу.\n",
    "  * Распечатать обзор статистических свойств ряда. Каково среднее количество побед?\n",
    "  * Отфильтровать все команды, выигравшие менее четырех кубков премьер-лиги.\n",
    "  * В футбольной команде 11 игроков. Обновите данные, чтобы вместо количества чемпионатов,  отражалось количество побед.\n",
    "  * Предположим, что каждая  победа приносила 50 000 долларов США. Обновите данные, чтобы они содержали строку суммы в долларах, включая знак \\$. Например, для `Локомотив` это будет соответствовать:\n",
    "  ```\n",
    "  Тренер Юрий Сёмин  Локомотив $ 600000\n",
    "  ```"
   ]
  },
  {
   "cell_type": "code",
   "execution_count": 2,
   "metadata": {},
   "outputs": [],
   "source": [
    "teams = [\"Юрий Сёмин («Локомотив»)\",\n",
    "         \"Олег Романцев («Спартак»)\",\n",
    "         \"Сергей Семак («Зенит»)\",\n",
    "         \"Валерий Газзаев («Спартак-Алания»)\",\n",
    "         \"Леонид Слуцкий (ЦСКА)\",\n",
    "         \"Курбан Бердыев («Рубин»)\",\n",
    "         \"Лучано Спаллетти («Зенит»)\",\n",
    "         \"Андре Виллаш-Боаш («Зенит»)\",\n",
    "         \"Дик Адвокат («Зенит»)\",\n",
    "         \"Массимо Каррера («Спартак»)\",\n",
    "         \"Зико (ЦСКА)\",\n",
    "         \"Георгий Ярцев («Спартак»)\"]\n",
    "wins = [12,11,10,10,7,5,4,3,2,2,1,1]"
   ]
  },
  {
   "cell_type": "code",
   "execution_count": 3,
   "metadata": {},
   "outputs": [
    {
     "name": "stderr",
     "output_type": "stream",
     "text": [
      "C:\\Users\\Viktoria\\AppData\\Local\\Temp\\ipykernel_21416\\4080736814.py:1: DeprecationWarning: \n",
      "Pyarrow will become a required dependency of pandas in the next major release of pandas (pandas 3.0),\n",
      "(to allow more performant data types, such as the Arrow string type, and better interoperability with other libraries)\n",
      "but was not found to be installed on your system.\n",
      "If this would cause problems for you,\n",
      "please provide us feedback at https://github.com/pandas-dev/pandas/issues/54466\n",
      "        \n",
      "  import pandas as pd\n"
     ]
    }
   ],
   "source": [
    "import pandas as pd"
   ]
  },
  {
   "cell_type": "markdown",
   "metadata": {},
   "source": [
    "Создание списка"
   ]
  },
  {
   "cell_type": "code",
   "execution_count": 4,
   "metadata": {},
   "outputs": [],
   "source": [
    "s = pd.Series(data=wins, index=teams, name='wins')"
   ]
  },
  {
   "cell_type": "markdown",
   "metadata": {},
   "source": [
    "Вывод списка, отсортированного по алфавиту"
   ]
  },
  {
   "cell_type": "code",
   "execution_count": 42,
   "metadata": {},
   "outputs": [
    {
     "data": {
      "text/plain": [
       "Андре Виллаш-Боаш («Зенит»)            3\n",
       "Валерий Газзаев («Спартак-Алания»)    10\n",
       "Георгий Ярцев («Спартак»)              1\n",
       "Дик Адвокат («Зенит»)                  2\n",
       "Зико (ЦСКА)                            1\n",
       "Курбан Бердыев («Рубин»)               5\n",
       "Леонид Слуцкий (ЦСКА)                  7\n",
       "Лучано Спаллетти («Зенит»)             4\n",
       "Массимо Каррера («Спартак»)            2\n",
       "Олег Романцев («Спартак»)             11\n",
       "Сергей Семак («Зенит»)                10\n",
       "Юрий Сёмин («Локомотив»)              12\n",
       "dtype: int64"
      ]
     },
     "execution_count": 42,
     "metadata": {},
     "output_type": "execute_result"
    }
   ],
   "source": [
    "s.sort_index()"
   ]
  },
  {
   "cell_type": "markdown",
   "metadata": {},
   "source": [
    "Вывод статистических свойств ряда"
   ]
  },
  {
   "cell_type": "code",
   "execution_count": 5,
   "metadata": {},
   "outputs": [
    {
     "data": {
      "text/plain": [
       "count    12.000000\n",
       "mean      5.666667\n",
       "std       4.141439\n",
       "min       1.000000\n",
       "25%       2.000000\n",
       "50%       4.500000\n",
       "75%      10.000000\n",
       "max      12.000000\n",
       "Name: wins, dtype: float64"
      ]
     },
     "execution_count": 5,
     "metadata": {},
     "output_type": "execute_result"
    }
   ],
   "source": [
    "s.describe()"
   ]
  },
  {
   "cell_type": "markdown",
   "metadata": {},
   "source": [
    "Вывод среднего количества побед"
   ]
  },
  {
   "cell_type": "code",
   "execution_count": 49,
   "metadata": {},
   "outputs": [
    {
     "data": {
      "text/plain": [
       "5.666666666666667"
      ]
     },
     "execution_count": 49,
     "metadata": {},
     "output_type": "execute_result"
    }
   ],
   "source": [
    "s.describe().iloc[1]"
   ]
  },
  {
   "cell_type": "markdown",
   "metadata": {},
   "source": [
    "Вывод команд, выигравших менее 4-х кубков"
   ]
  },
  {
   "cell_type": "code",
   "execution_count": 99,
   "metadata": {},
   "outputs": [
    {
     "data": {
      "text/plain": [
       "Андре Виллаш-Боаш («Зенит»)    3\n",
       "Дик Адвокат («Зенит»)          2\n",
       "Массимо Каррера («Спартак»)    2\n",
       "Зико (ЦСКА)                    1\n",
       "Георгий Ярцев («Спартак»)      1\n",
       "dtype: int64"
      ]
     },
     "execution_count": 99,
     "metadata": {},
     "output_type": "execute_result"
    }
   ],
   "source": [
    "s[s<4]"
   ]
  },
  {
   "cell_type": "markdown",
   "metadata": {},
   "source": [
    "• В футбольной команде 11 игроков. Обновите данные, чтобы вместо количества чемпионатов, отражалось количество побед. "
   ]
  },
  {
   "cell_type": "code",
   "execution_count": 6,
   "metadata": {},
   "outputs": [],
   "source": [
    "import requests as re\n",
    "from bs4 import BeautifulSoup\n",
    "import pandas as pd"
   ]
  },
  {
   "cell_type": "markdown",
   "metadata": {},
   "source": [
    "Парсинг таблицы "
   ]
  },
  {
   "cell_type": "code",
   "execution_count": 8,
   "metadata": {},
   "outputs": [
    {
     "name": "stderr",
     "output_type": "stream",
     "text": [
      "C:\\Users\\Viktoria\\AppData\\Local\\Temp\\ipykernel_21416\\1888135813.py:8: FutureWarning: Passing literal html to 'read_html' is deprecated and will be removed in a future version. To read from a literal string, wrap it in a 'StringIO' object.\n",
      "  df = pd.read_html(str(tables))[0]\n"
     ]
    }
   ],
   "source": [
    "url = 'https://ru.wikipedia.org/wiki/Российская_премьер-лига'\n",
    "html = re.get(url).content\n",
    "\n",
    "soup = BeautifulSoup(html, 'html.parser')\n",
    "tables = soup.find_all('table', {'class': 'wikitable'}) \n",
    "tables = tables[2]  \n",
    "\n",
    "df = pd.read_html(str(tables))[0]"
   ]
  },
  {
   "cell_type": "code",
   "execution_count": 9,
   "metadata": {},
   "outputs": [
    {
     "data": {
      "text/html": [
       "<div>\n",
       "<style scoped>\n",
       "    .dataframe tbody tr th:only-of-type {\n",
       "        vertical-align: middle;\n",
       "    }\n",
       "\n",
       "    .dataframe tbody tr th {\n",
       "        vertical-align: top;\n",
       "    }\n",
       "\n",
       "    .dataframe thead th {\n",
       "        text-align: right;\n",
       "    }\n",
       "</style>\n",
       "<table border=\"1\" class=\"dataframe\">\n",
       "  <thead>\n",
       "    <tr style=\"text-align: right;\">\n",
       "      <th></th>\n",
       "      <th>№</th>\n",
       "      <th>Тренер</th>\n",
       "      <th>Всего</th>\n",
       "      <th>Чемпионат</th>\n",
       "      <th>Кубок</th>\n",
       "      <th>Кубок лиги</th>\n",
       "      <th>Суперкубок</th>\n",
       "    </tr>\n",
       "  </thead>\n",
       "  <tbody>\n",
       "    <tr>\n",
       "      <th>0</th>\n",
       "      <td>1</td>\n",
       "      <td>Юрий Сёмин («Локомотив»)</td>\n",
       "      <td>12</td>\n",
       "      <td>3</td>\n",
       "      <td>6</td>\n",
       "      <td>0</td>\n",
       "      <td>3</td>\n",
       "    </tr>\n",
       "    <tr>\n",
       "      <th>1</th>\n",
       "      <td>2</td>\n",
       "      <td>Олег Романцев («Спартак»)</td>\n",
       "      <td>11</td>\n",
       "      <td>8</td>\n",
       "      <td>3</td>\n",
       "      <td>0</td>\n",
       "      <td>0</td>\n",
       "    </tr>\n",
       "    <tr>\n",
       "      <th>2</th>\n",
       "      <td>3</td>\n",
       "      <td>Сергей Семак («Зенит»)</td>\n",
       "      <td>10</td>\n",
       "      <td>5</td>\n",
       "      <td>1</td>\n",
       "      <td>0</td>\n",
       "      <td>4</td>\n",
       "    </tr>\n",
       "    <tr>\n",
       "      <th>3</th>\n",
       "      <td>4</td>\n",
       "      <td>Валерий Газзаев («Спартак-Алания», ЦСКА)</td>\n",
       "      <td>10</td>\n",
       "      <td>4</td>\n",
       "      <td>4</td>\n",
       "      <td>0</td>\n",
       "      <td>2</td>\n",
       "    </tr>\n",
       "    <tr>\n",
       "      <th>4</th>\n",
       "      <td>5</td>\n",
       "      <td>Леонид Слуцкий (ЦСКА)</td>\n",
       "      <td>7</td>\n",
       "      <td>3</td>\n",
       "      <td>2</td>\n",
       "      <td>0</td>\n",
       "      <td>2</td>\n",
       "    </tr>\n",
       "    <tr>\n",
       "      <th>5</th>\n",
       "      <td>6</td>\n",
       "      <td>Курбан Бердыев («Рубин»)</td>\n",
       "      <td>5</td>\n",
       "      <td>2</td>\n",
       "      <td>1</td>\n",
       "      <td>0</td>\n",
       "      <td>2</td>\n",
       "    </tr>\n",
       "    <tr>\n",
       "      <th>6</th>\n",
       "      <td>7</td>\n",
       "      <td>Лучано Спаллетти («Зенит»)</td>\n",
       "      <td>4</td>\n",
       "      <td>2</td>\n",
       "      <td>1</td>\n",
       "      <td>0</td>\n",
       "      <td>1</td>\n",
       "    </tr>\n",
       "    <tr>\n",
       "      <th>7</th>\n",
       "      <td>8</td>\n",
       "      <td>Андре Виллаш-Боаш («Зенит»)</td>\n",
       "      <td>3</td>\n",
       "      <td>1</td>\n",
       "      <td>1</td>\n",
       "      <td>0</td>\n",
       "      <td>1</td>\n",
       "    </tr>\n",
       "    <tr>\n",
       "      <th>8</th>\n",
       "      <td>9</td>\n",
       "      <td>Дик Адвокат («Зенит»)</td>\n",
       "      <td>2</td>\n",
       "      <td>1</td>\n",
       "      <td>0</td>\n",
       "      <td>0</td>\n",
       "      <td>1</td>\n",
       "    </tr>\n",
       "    <tr>\n",
       "      <th>9</th>\n",
       "      <td>9</td>\n",
       "      <td>Массимо Каррера («Спартак»)</td>\n",
       "      <td>2</td>\n",
       "      <td>1</td>\n",
       "      <td>0</td>\n",
       "      <td>0</td>\n",
       "      <td>1</td>\n",
       "    </tr>\n",
       "    <tr>\n",
       "      <th>10</th>\n",
       "      <td>11</td>\n",
       "      <td>Зико (ЦСКА)</td>\n",
       "      <td>2</td>\n",
       "      <td>0</td>\n",
       "      <td>1</td>\n",
       "      <td>0</td>\n",
       "      <td>1</td>\n",
       "    </tr>\n",
       "    <tr>\n",
       "      <th>11</th>\n",
       "      <td>12</td>\n",
       "      <td>Георгий Ярцев («Спартак»)</td>\n",
       "      <td>1</td>\n",
       "      <td>1</td>\n",
       "      <td>0</td>\n",
       "      <td>0</td>\n",
       "      <td>0</td>\n",
       "    </tr>\n",
       "    <tr>\n",
       "      <th>12</th>\n",
       "      <td>13</td>\n",
       "      <td>Юрий Миронов («Торпедо»)</td>\n",
       "      <td>1</td>\n",
       "      <td>0</td>\n",
       "      <td>1</td>\n",
       "      <td>0</td>\n",
       "      <td>0</td>\n",
       "    </tr>\n",
       "    <tr>\n",
       "      <th>13</th>\n",
       "      <td>13</td>\n",
       "      <td>Константин Бесков («Динамо»)</td>\n",
       "      <td>1</td>\n",
       "      <td>0</td>\n",
       "      <td>1</td>\n",
       "      <td>0</td>\n",
       "      <td>0</td>\n",
       "    </tr>\n",
       "    <tr>\n",
       "      <th>14</th>\n",
       "      <td>13</td>\n",
       "      <td>Анатолий Давыдов («Зенит»)</td>\n",
       "      <td>1</td>\n",
       "      <td>0</td>\n",
       "      <td>1</td>\n",
       "      <td>0</td>\n",
       "      <td>0</td>\n",
       "    </tr>\n",
       "    <tr>\n",
       "      <th>15</th>\n",
       "      <td>13</td>\n",
       "      <td>Ваит Талгаев («Терек»)</td>\n",
       "      <td>1</td>\n",
       "      <td>0</td>\n",
       "      <td>1</td>\n",
       "      <td>0</td>\n",
       "      <td>0</td>\n",
       "    </tr>\n",
       "    <tr>\n",
       "      <th>16</th>\n",
       "      <td>13</td>\n",
       "      <td>Анатолий Бышовец («Локомотив»)</td>\n",
       "      <td>1</td>\n",
       "      <td>0</td>\n",
       "      <td>1</td>\n",
       "      <td>0</td>\n",
       "      <td>0</td>\n",
       "    </tr>\n",
       "    <tr>\n",
       "      <th>17</th>\n",
       "      <td>13</td>\n",
       "      <td>Миодраг Божович («Ростов»)</td>\n",
       "      <td>1</td>\n",
       "      <td>0</td>\n",
       "      <td>1</td>\n",
       "      <td>0</td>\n",
       "      <td>0</td>\n",
       "    </tr>\n",
       "    <tr>\n",
       "      <th>18</th>\n",
       "      <td>13</td>\n",
       "      <td>Игорь Черевченко («Локомотив»)</td>\n",
       "      <td>1</td>\n",
       "      <td>0</td>\n",
       "      <td>1</td>\n",
       "      <td>0</td>\n",
       "      <td>0</td>\n",
       "    </tr>\n",
       "    <tr>\n",
       "      <th>19</th>\n",
       "      <td>13</td>\n",
       "      <td>Дмитрий Парфёнов («Тосно»)</td>\n",
       "      <td>1</td>\n",
       "      <td>0</td>\n",
       "      <td>1</td>\n",
       "      <td>0</td>\n",
       "      <td>0</td>\n",
       "    </tr>\n",
       "    <tr>\n",
       "      <th>20</th>\n",
       "      <td>13</td>\n",
       "      <td>Марко Николич («Локомотив»)</td>\n",
       "      <td>1</td>\n",
       "      <td>0</td>\n",
       "      <td>1</td>\n",
       "      <td>0</td>\n",
       "      <td>0</td>\n",
       "    </tr>\n",
       "    <tr>\n",
       "      <th>21</th>\n",
       "      <td>13</td>\n",
       "      <td>Паоло Ваноли («Спартак»)</td>\n",
       "      <td>1</td>\n",
       "      <td>0</td>\n",
       "      <td>1</td>\n",
       "      <td>0</td>\n",
       "      <td>0</td>\n",
       "    </tr>\n",
       "    <tr>\n",
       "      <th>22</th>\n",
       "      <td>13</td>\n",
       "      <td>Владимир Федотов (ЦСКА)</td>\n",
       "      <td>1</td>\n",
       "      <td>0</td>\n",
       "      <td>1</td>\n",
       "      <td>0</td>\n",
       "      <td>0</td>\n",
       "    </tr>\n",
       "    <tr>\n",
       "      <th>23</th>\n",
       "      <td>24</td>\n",
       "      <td>Властимил Петржела («Зенит»)</td>\n",
       "      <td>1</td>\n",
       "      <td>0</td>\n",
       "      <td>0</td>\n",
       "      <td>1</td>\n",
       "      <td>0</td>\n",
       "    </tr>\n",
       "    <tr>\n",
       "      <th>24</th>\n",
       "      <td>25</td>\n",
       "      <td>Артур Жорже (ЦСКА)</td>\n",
       "      <td>1</td>\n",
       "      <td>0</td>\n",
       "      <td>0</td>\n",
       "      <td>0</td>\n",
       "      <td>1</td>\n",
       "    </tr>\n",
       "    <tr>\n",
       "      <th>25</th>\n",
       "      <td>25</td>\n",
       "      <td>Мирча Луческу («Зенит»)</td>\n",
       "      <td>1</td>\n",
       "      <td>0</td>\n",
       "      <td>0</td>\n",
       "      <td>0</td>\n",
       "      <td>1</td>\n",
       "    </tr>\n",
       "    <tr>\n",
       "      <th>26</th>\n",
       "      <td>25</td>\n",
       "      <td>Виктор Гончаренко (ЦСКА)</td>\n",
       "      <td>1</td>\n",
       "      <td>0</td>\n",
       "      <td>0</td>\n",
       "      <td>0</td>\n",
       "      <td>1</td>\n",
       "    </tr>\n",
       "  </tbody>\n",
       "</table>\n",
       "</div>"
      ],
      "text/plain": [
       "     №                                    Тренер  Всего  Чемпионат  Кубок  \\\n",
       "0    1                  Юрий Сёмин («Локомотив»)     12          3      6   \n",
       "1    2                 Олег Романцев («Спартак»)     11          8      3   \n",
       "2    3                    Сергей Семак («Зенит»)     10          5      1   \n",
       "3    4  Валерий Газзаев («Спартак-Алания», ЦСКА)     10          4      4   \n",
       "4    5                     Леонид Слуцкий (ЦСКА)      7          3      2   \n",
       "5    6                  Курбан Бердыев («Рубин»)      5          2      1   \n",
       "6    7                Лучано Спаллетти («Зенит»)      4          2      1   \n",
       "7    8               Андре Виллаш-Боаш («Зенит»)      3          1      1   \n",
       "8    9                     Дик Адвокат («Зенит»)      2          1      0   \n",
       "9    9               Массимо Каррера («Спартак»)      2          1      0   \n",
       "10  11                               Зико (ЦСКА)      2          0      1   \n",
       "11  12                 Георгий Ярцев («Спартак»)      1          1      0   \n",
       "12  13                  Юрий Миронов («Торпедо»)      1          0      1   \n",
       "13  13              Константин Бесков («Динамо»)      1          0      1   \n",
       "14  13                Анатолий Давыдов («Зенит»)      1          0      1   \n",
       "15  13                    Ваит Талгаев («Терек»)      1          0      1   \n",
       "16  13            Анатолий Бышовец («Локомотив»)      1          0      1   \n",
       "17  13                Миодраг Божович («Ростов»)      1          0      1   \n",
       "18  13            Игорь Черевченко («Локомотив»)      1          0      1   \n",
       "19  13                Дмитрий Парфёнов («Тосно»)      1          0      1   \n",
       "20  13               Марко Николич («Локомотив»)      1          0      1   \n",
       "21  13                  Паоло Ваноли («Спартак»)      1          0      1   \n",
       "22  13                   Владимир Федотов (ЦСКА)      1          0      1   \n",
       "23  24              Властимил Петржела («Зенит»)      1          0      0   \n",
       "24  25                        Артур Жорже (ЦСКА)      1          0      0   \n",
       "25  25                   Мирча Луческу («Зенит»)      1          0      0   \n",
       "26  25                  Виктор Гончаренко (ЦСКА)      1          0      0   \n",
       "\n",
       "    Кубок лиги  Суперкубок  \n",
       "0            0           3  \n",
       "1            0           0  \n",
       "2            0           4  \n",
       "3            0           2  \n",
       "4            0           2  \n",
       "5            0           2  \n",
       "6            0           1  \n",
       "7            0           1  \n",
       "8            0           1  \n",
       "9            0           1  \n",
       "10           0           1  \n",
       "11           0           0  \n",
       "12           0           0  \n",
       "13           0           0  \n",
       "14           0           0  \n",
       "15           0           0  \n",
       "16           0           0  \n",
       "17           0           0  \n",
       "18           0           0  \n",
       "19           0           0  \n",
       "20           0           0  \n",
       "21           0           0  \n",
       "22           0           0  \n",
       "23           1           0  \n",
       "24           0           1  \n",
       "25           0           1  \n",
       "26           0           1  "
      ]
     },
     "execution_count": 9,
     "metadata": {},
     "output_type": "execute_result"
    }
   ],
   "source": [
    "df"
   ]
  },
  {
   "cell_type": "markdown",
   "metadata": {},
   "source": [
    "Сохранение необходимых столбцов, очистка данных"
   ]
  },
  {
   "cell_type": "code",
   "execution_count": 10,
   "metadata": {},
   "outputs": [],
   "source": [
    "df = df.iloc[:, 1:3]\n",
    "df['Тренер'] = df['Тренер'].str.replace(', ЦСКА', '')\n"
   ]
  },
  {
   "cell_type": "markdown",
   "metadata": {},
   "source": [
    "Объединение датафрейма с списком, удаление строки с NaN значениями"
   ]
  },
  {
   "cell_type": "code",
   "execution_count": 20,
   "metadata": {},
   "outputs": [],
   "source": [
    "res = df.join(s, on='Тренер')\n",
    "res = res.dropna(subset=['wins'])"
   ]
  },
  {
   "cell_type": "code",
   "execution_count": 21,
   "metadata": {},
   "outputs": [
    {
     "data": {
      "text/html": [
       "<div>\n",
       "<style scoped>\n",
       "    .dataframe tbody tr th:only-of-type {\n",
       "        vertical-align: middle;\n",
       "    }\n",
       "\n",
       "    .dataframe tbody tr th {\n",
       "        vertical-align: top;\n",
       "    }\n",
       "\n",
       "    .dataframe thead th {\n",
       "        text-align: right;\n",
       "    }\n",
       "</style>\n",
       "<table border=\"1\" class=\"dataframe\">\n",
       "  <thead>\n",
       "    <tr style=\"text-align: right;\">\n",
       "      <th></th>\n",
       "      <th>Тренер</th>\n",
       "      <th>Всего</th>\n",
       "      <th>wins</th>\n",
       "    </tr>\n",
       "  </thead>\n",
       "  <tbody>\n",
       "    <tr>\n",
       "      <th>0</th>\n",
       "      <td>Юрий Сёмин («Локомотив»)</td>\n",
       "      <td>12</td>\n",
       "      <td>12.0</td>\n",
       "    </tr>\n",
       "    <tr>\n",
       "      <th>1</th>\n",
       "      <td>Олег Романцев («Спартак»)</td>\n",
       "      <td>11</td>\n",
       "      <td>11.0</td>\n",
       "    </tr>\n",
       "    <tr>\n",
       "      <th>2</th>\n",
       "      <td>Сергей Семак («Зенит»)</td>\n",
       "      <td>10</td>\n",
       "      <td>10.0</td>\n",
       "    </tr>\n",
       "    <tr>\n",
       "      <th>3</th>\n",
       "      <td>Валерий Газзаев («Спартак-Алания»)</td>\n",
       "      <td>10</td>\n",
       "      <td>10.0</td>\n",
       "    </tr>\n",
       "    <tr>\n",
       "      <th>4</th>\n",
       "      <td>Леонид Слуцкий (ЦСКА)</td>\n",
       "      <td>7</td>\n",
       "      <td>7.0</td>\n",
       "    </tr>\n",
       "    <tr>\n",
       "      <th>5</th>\n",
       "      <td>Курбан Бердыев («Рубин»)</td>\n",
       "      <td>5</td>\n",
       "      <td>5.0</td>\n",
       "    </tr>\n",
       "    <tr>\n",
       "      <th>6</th>\n",
       "      <td>Лучано Спаллетти («Зенит»)</td>\n",
       "      <td>4</td>\n",
       "      <td>4.0</td>\n",
       "    </tr>\n",
       "    <tr>\n",
       "      <th>7</th>\n",
       "      <td>Андре Виллаш-Боаш («Зенит»)</td>\n",
       "      <td>3</td>\n",
       "      <td>3.0</td>\n",
       "    </tr>\n",
       "    <tr>\n",
       "      <th>8</th>\n",
       "      <td>Дик Адвокат («Зенит»)</td>\n",
       "      <td>2</td>\n",
       "      <td>2.0</td>\n",
       "    </tr>\n",
       "    <tr>\n",
       "      <th>9</th>\n",
       "      <td>Массимо Каррера («Спартак»)</td>\n",
       "      <td>2</td>\n",
       "      <td>2.0</td>\n",
       "    </tr>\n",
       "    <tr>\n",
       "      <th>10</th>\n",
       "      <td>Зико (ЦСКА)</td>\n",
       "      <td>2</td>\n",
       "      <td>1.0</td>\n",
       "    </tr>\n",
       "    <tr>\n",
       "      <th>11</th>\n",
       "      <td>Георгий Ярцев («Спартак»)</td>\n",
       "      <td>1</td>\n",
       "      <td>1.0</td>\n",
       "    </tr>\n",
       "  </tbody>\n",
       "</table>\n",
       "</div>"
      ],
      "text/plain": [
       "                                Тренер  Всего  wins\n",
       "0             Юрий Сёмин («Локомотив»)     12  12.0\n",
       "1            Олег Романцев («Спартак»)     11  11.0\n",
       "2               Сергей Семак («Зенит»)     10  10.0\n",
       "3   Валерий Газзаев («Спартак-Алания»)     10  10.0\n",
       "4                Леонид Слуцкий (ЦСКА)      7   7.0\n",
       "5             Курбан Бердыев («Рубин»)      5   5.0\n",
       "6           Лучано Спаллетти («Зенит»)      4   4.0\n",
       "7          Андре Виллаш-Боаш («Зенит»)      3   3.0\n",
       "8                Дик Адвокат («Зенит»)      2   2.0\n",
       "9          Массимо Каррера («Спартак»)      2   2.0\n",
       "10                         Зико (ЦСКА)      2   1.0\n",
       "11           Георгий Ярцев («Спартак»)      1   1.0"
      ]
     },
     "execution_count": 21,
     "metadata": {},
     "output_type": "execute_result"
    }
   ],
   "source": [
    "res"
   ]
  },
  {
   "cell_type": "markdown",
   "metadata": {},
   "source": [
    "* Предположим, что каждая победа приносила 50 000 долларов США. Обновите данные, чтобы они содержали строкусуммы в долларах, включая знак $. "
   ]
  },
  {
   "cell_type": "markdown",
   "metadata": {},
   "source": [
    "Очищение строк от ненужных элементов"
   ]
  },
  {
   "cell_type": "code",
   "execution_count": 22,
   "metadata": {},
   "outputs": [],
   "source": [
    "df['Тренер'] = df['Тренер'].str.replace('(«', '')\n",
    "df['Тренер'] = df['Тренер'].str.replace('»)', '')\n",
    "df['Тренер'] = df['Тренер'].str.replace(')', '')\n",
    "df['Тренер'] = df['Тренер'].str.replace('(', '')"
   ]
  },
  {
   "cell_type": "markdown",
   "metadata": {},
   "source": [
    "Создаём функцию, которая принимает датафрейм и количество кубков, выводит данные от тренерах в необходим виде "
   ]
  },
  {
   "cell_type": "code",
   "execution_count": 23,
   "metadata": {},
   "outputs": [
    {
     "name": "stdout",
     "output_type": "stream",
     "text": [
      "Тренер Георгий Ярцев Спартак $ 50000\n",
      "Тренер Юрий Миронов Торпедо $ 50000\n",
      "Тренер Константин Бесков Динамо $ 50000\n",
      "Тренер Анатолий Давыдов Зенит $ 50000\n",
      "Тренер Ваит Талгаев Терек $ 50000\n",
      "Тренер Анатолий Бышовец Локомотив $ 50000\n",
      "Тренер Миодраг Божович Ростов $ 50000\n",
      "Тренер Игорь Черевченко Локомотив $ 50000\n",
      "Тренер Дмитрий Парфёнов Тосно $ 50000\n",
      "Тренер Марко Николич Локомотив $ 50000\n",
      "Тренер Паоло Ваноли Спартак $ 50000\n",
      "Тренер Владимир Федотов ЦСКА $ 50000\n",
      "Тренер Властимил Петржела Зенит $ 50000\n",
      "Тренер Артур Жорже ЦСКА $ 50000\n",
      "Тренер Мирча Луческу Зенит $ 50000\n",
      "Тренер Виктор Гончаренко ЦСКА $ 50000\n"
     ]
    }
   ],
   "source": [
    "def toDollars(df, amount):\n",
    "    df['Money'] = df['Всего'].apply(lambda x: f'$ {x*50000}')\n",
    "    for i in range(len(df)):\n",
    "        if  df['Всего'][i] == amount:\n",
    "            print(f\"Тренер {df['Тренер'][i]} {df['Money'][i]}\")\n",
    "toDollars(df, 1)"
   ]
  }
 ],
 "metadata": {
  "anaconda-cloud": {},
  "kernelspec": {
   "display_name": "Python 3",
   "language": "python",
   "name": "python3"
  },
  "language_info": {
   "codemirror_mode": {
    "name": "ipython",
    "version": 3
   },
   "file_extension": ".py",
   "mimetype": "text/x-python",
   "name": "python",
   "nbconvert_exporter": "python",
   "pygments_lexer": "ipython3",
   "version": "3.11.8"
  }
 },
 "nbformat": 4,
 "nbformat_minor": 1
}
