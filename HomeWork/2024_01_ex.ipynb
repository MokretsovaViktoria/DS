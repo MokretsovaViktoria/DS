{
  "cells": [
    {
      "cell_type": "markdown",
      "metadata": {
        "id": "Jyrf8xk3k6Ys"
      },
      "source": [
        "# Лабораторная работа к лекции 1\n",
        "Ваше имя:\n",
        "\n",
        "Ваш адрес электронной почты:"
      ]
    },
    {
      "cell_type": "markdown",
      "metadata": {
        "id": "86N7viRzk6Yt"
      },
      "source": [
        "## Упражнение 1.1. Типы данных и операции\n",
        "1. Определите две переменные и присвойте первой целое число, а второй — число с плавающей запятой. Определите новую переменную и присвойте сумму двух предыдущих переменных. Каков тип данных третьей переменной?\n",
        "2. Переназначьте переменную с другим типом данных, например, возьмите одну из числовых переменных и присвойте ей строку. Какой новый тип данных?\n",
        "3. Посмотрите, что произойдет, если вы попытаетесь добавить строку к строке.\n",
        "4. Посмотрите, что произойдет, если вы добавите строку к числу с плавающей запятой или целому числу."
      ]
    },
    {
      "cell_type": "code",
      "execution_count": 26,
      "metadata": {
        "id": "9ZgZCUPNk6Yt"
      },
      "outputs": [
        {
          "name": "stdout",
          "output_type": "stream",
          "text": [
            "<class 'float'>\n",
            "<class 'str'>\n",
            "stringsecond\n",
            "Произошла ошибка: can only concatenate str (not \"float\") to str\n"
          ]
        }
      ],
      "source": [
        "# Ваш код\n",
        "# №1\n",
        "one = 5\n",
        "two = 2.3\n",
        "thee = one+two\n",
        "print(type(thee))\n",
        "# №2\n",
        "one = \"string\"\n",
        "print(type(one))\n",
        "# №3\n",
        "thee = \"second\"\n",
        "print(one+thee)\n",
        "# №4\n",
        "try:\n",
        "    one+two\n",
        "except Exception as e:\n",
        "    print(\"Произошла ошибка:\", e)\n"
      ]
    },
    {
      "cell_type": "markdown",
      "metadata": {
        "id": "ZMoobyT-k6Yu"
      },
      "source": [
        "## Упражнение 1.2. Запуск программ\n",
        "\n",
        "  * Создайте новый файл Python(или файл с расширением `.ipynb`) и используйте функцию `double_number` в качестве шаблона. Измените код, чтобы добавить два числа вместо удвоения одного числа.\n",
        "  * Можете ли вы догадаться, что произойдет, если изменить отступ? Выполните данное действие.\n",
        "  * Попробуйте, что произойдет, если вы напечатаете `a` в самом конце программы. Пояснить, что происходит?\n",
        " [Текст ссылки](https://)"
      ]
    },
    {
      "cell_type": "code",
      "execution_count": 27,
      "metadata": {
        "id": "N2v5UHG1k6Yu"
      },
      "outputs": [
        {
          "name": "stdout",
          "output_type": "stream",
          "text": [
            "7\n",
            "19.22\n"
          ]
        }
      ],
      "source": [
        "# Ваш код\n",
        "def double_number(a, b):\n",
        "    a += b\n",
        "    return a\n",
        "print(double_number(3,4)) \n",
        "print(double_number(14.22,5))\n",
        "\n",
        "try:\n",
        "    a\n",
        "except Exception as e:\n",
        "    print(\"Произошла ошибка:\", e)\n",
        "\n",
        "\n",
        "# def double_number(a, b):\n",
        "# a += b\n",
        "#     return a\n"
      ]
    },
    {
      "cell_type": "markdown",
      "metadata": {
        "id": "15GtjpzGk6Yu"
      },
      "source": [
        "## Упражнение 1.3. Создание ячеек, выполнение кода\n",
        "\n",
        "1. Создайте новую ячейку кода ниже, где вы определите переменные, содержащие ваше имя, ваш возраст  и вашу специальность.\n",
        "2. Создайте еще одну ячейку, использующую эти переменные, и выведите объединенную строку с указанием вашего имени, специальности и возраста в годах, месяцах и днях (при условии, что сегодня ваш день рождения). Вывод должен выглядеть так:\n",
        "\n",
        "```\n",
        "Имя: Кот-ученый, Специальность: Бизнес-Информатика, Возраст: 18 лет, или 216 месяцев, или 6480 дней..\n",
        "```"
      ]
    },
    {
      "cell_type": "code",
      "execution_count": 28,
      "metadata": {},
      "outputs": [
        {
          "name": "stdout",
          "output_type": "stream",
          "text": [
            "Имя: Виктория, Специальность: Бизнес-информатика, Возраст: 20 лет, или 240 месяцев, или 7200 дней...\n"
          ]
        }
      ],
      "source": [
        "name = \"Виктория\"\n",
        "age = 20\n",
        "spec = \"Бизнес-информатика\"\n",
        "print(f\"Имя: {name}, Специальность: {spec}, Возраст: {age} лет, или {age*12} месяцев, или {age*12*30} дней...\")"
      ]
    },
    {
      "cell_type": "markdown",
      "metadata": {
        "id": "bPTBzjXhk6Yu"
      },
      "source": [
        "## Упражнение 1.4: Функции\n",
        "Напишите функцию, которая\n",
        "  * принимает две числовые переменные\n",
        "  * умножает их друг на друга\n",
        "  * делит их на числовую переменную, определенную в области видимости вне функции\n",
        "  * и возвращает результат.\n",
        "\n",
        "Выведите результат функции для трех разных наборов входных переменных."
      ]
    },
    {
      "cell_type": "code",
      "execution_count": 29,
      "metadata": {
        "id": "z7DKIUQCk6Yu"
      },
      "outputs": [
        {
          "name": "stdout",
          "output_type": "stream",
          "text": [
            "2.0\n",
            "0.0\n",
            "-0.1111111111111111\n"
          ]
        }
      ],
      "source": [
        "# Ваш код\n",
        "c = 3\n",
        "def func(a,b):\n",
        "    return a*b/c\n",
        "print(\n",
        "    func(2,3)\n",
        "    , func(0,5)\n",
        "    , func(-1, 1/3)\n",
        "    , sep=\"\\n\")"
      ]
    },
    {
      "cell_type": "markdown",
      "metadata": {},
      "source": [
        "## Упражнение 1.5*\n",
        "\n",
        "Есть некоторые данные о количестве книг, прочитанных разными людьми, работающими в книжном магазине Владимира. Создайте код Python, который учитывает каждого человека и выводит, сколько книг он прочитал. Если кто-то прочитал 0 книг, выведите «___ не читал ни одной книги!» вместо количества книг."
      ]
    },
    {
      "cell_type": "code",
      "execution_count": 57,
      "metadata": {},
      "outputs": [],
      "source": [
        "people = ['Krishnang', 'Steve', 'Jimmy', 'Mary', 'Divya', 'Robert', 'Yulia']\n",
        "books_read = [12, 6, 0, 7, 4, 10, 15]"
      ]
    },
    {
      "cell_type": "markdown",
      "metadata": {},
      "source": [
        "Существует несколько способов решить эту задачу: можно изучить функцию `zip()`, использовать `enumerate()`, `range` и `len` или использовать другие методы. Чтобы напечатать имена и значения, вы можете использовать конкатенацию строк (+), форматирование f-строки или другие методы."
      ]
    },
    {
      "cell_type": "code",
      "execution_count": 49,
      "metadata": {},
      "outputs": [],
      "source": [
        "# Ваш код\n",
        "def zip_method(names, books):\n",
        "    books[books.index(0)] = \"ни одной книги\"\n",
        "    zip_method = list(zip(names, books))\n",
        "    result = ', '.join(f'{person} прочитал {books} книг' for person, books in zip_method)\n",
        "    return(result)\n",
        "\n",
        "def for_method(names, books):\n",
        "    books[books.index(0)] = \"ни одной книги\"\n",
        "    return {key: (names[key], books[key]) for key in range(len(names))}\n",
        "    #print(enum_names, enum_books)\n"
      ]
    },
    {
      "cell_type": "markdown",
      "metadata": {},
      "source": [
        "Преобразуйте только что созданный цикл в функцию, которая принимает два списка (прочитанные книги и людей) в качестве аргументов."
      ]
    },
    {
      "cell_type": "code",
      "execution_count": 55,
      "metadata": {},
      "outputs": [
        {
          "name": "stdout",
          "output_type": "stream",
          "text": [
            "Krishnang прочитал 12 книг, Steve прочитал 6 книг, Jimmy прочитал ни одной книги книг, Mary прочитал 7 книг, Divya прочитал 4 книг, Robert прочитал 10 книг, Yulia прочитал 15 книг\n",
            "{0: ('Krishnang', 12), 1: ('Steve', 6), 2: ('Jimmy', 'ни одной книги'), 3: ('Mary', 7), 4: ('Divya', 4), 5: ('Robert', 10), 6: ('Yulia', 15)}\n"
          ]
        }
      ],
      "source": [
        "# Ваш код\n",
        "people = ['Krishnang', 'Steve', 'Jimmy', 'Mary', 'Divya', 'Robert', 'Yulia']\n",
        "books_read = [12, 6, 0, 7, 4, 10, 15]\n",
        "print(zip_method(people, books_read))\n",
        "people = ['Krishnang', 'Steve', 'Jimmy', 'Mary', 'Divya', 'Robert', 'Yulia']\n",
        "books_read = [12, 6, 0, 7, 4, 10, 15]\n",
        "print(for_method(people, books_read))"
      ]
    },
    {
      "cell_type": "markdown",
      "metadata": {},
      "source": [
        "Отсортируйте значения `books_read` от большего к меньшему и выведите трех первых людей с количеством прочитанных ими книг. Некоторые возможные способы решения этой задачи включают использование сортировки аргументов `NumPy`, создание словаря и создание кортежей."
      ]
    },
    {
      "cell_type": "code",
      "execution_count": 93,
      "metadata": {},
      "outputs": [
        {
          "name": "stdout",
          "output_type": "stream",
          "text": [
            "[15, 12, 10]\n"
          ]
        }
      ],
      "source": [
        "# Ваш код\n",
        "people = ['Krishnang', 'Steve', 'Jimmy', 'Mary', 'Divya', 'Robert', 'Yulia']\n",
        "books_read = [12, 6, 0, 7, 4, 10, 15]\n",
        "a = []\n",
        "try:\n",
        "    while len(a)<3:\n",
        "        for i in range(len(people)):\n",
        "            if books_read[i] == max(books_read):\n",
        "                a.append(books_read[i])\n",
        "                books_read.remove(books_read[i])\n",
        "except Exception as e:\n",
        "    print(a)"
      ]
    },
    {
      "cell_type": "code",
      "execution_count": 96,
      "metadata": {},
      "outputs": [
        {
          "name": "stdout",
          "output_type": "stream",
          "text": [
            "[15, 12, 10]\n"
          ]
        }
      ],
      "source": [
        "people = ['Krishnang', 'Steve', 'Jimmy', 'Mary', 'Divya', 'Robert', 'Yulia']\n",
        "books_read = [12, 6, 0, 7, 4, 10, 15]\n",
        "a = []\n",
        "while len(a)<3:\n",
        "    i = books_read.index(max(books_read))\n",
        "    a.append(books_read[i])\n",
        "    books_read.remove(books_read[i])\n",
        "print(a)"
      ]
    },
    {
      "cell_type": "code",
      "execution_count": 106,
      "metadata": {},
      "outputs": [
        {
          "name": "stdout",
          "output_type": "stream",
          "text": [
            "[15, 12, 10]\n"
          ]
        }
      ],
      "source": [
        "people = ['Krishnang', 'Steve', 'Jimmy', 'Mary', 'Divya', 'Robert', 'Yulia']\n",
        "books_read = [12, 6, 0, 7, 4, 10, 15]\n",
        "books_read.sort(reverse=True)\n",
        "print(books_read[:3])"
      ]
    },
    {
      "cell_type": "code",
      "execution_count": 134,
      "metadata": {},
      "outputs": [
        {
          "name": "stdout",
          "output_type": "stream",
          "text": [
            "[10 12 15]\n"
          ]
        }
      ],
      "source": [
        "import numpy as np\n",
        "people = ['Krishnang', 'Steve', 'Jimmy', 'Mary', 'Divya', 'Robert', 'Yulia']\n",
        "books_read = [12, 6, 0, 7, 4, 10, 15]\n",
        "print(np.sort(books_read)[-3:])"
      ]
    }
  ],
  "metadata": {
    "colab": {
      "provenance": []
    },
    "kernelspec": {
      "display_name": "Python 3 (ipykernel)",
      "language": "python",
      "name": "python3"
    },
    "language_info": {
      "codemirror_mode": {
        "name": "ipython",
        "version": 3
      },
      "file_extension": ".py",
      "mimetype": "text/x-python",
      "name": "python",
      "nbconvert_exporter": "python",
      "pygments_lexer": "ipython3",
      "version": "3.11.8"
    }
  },
  "nbformat": 4,
  "nbformat_minor": 0
}
